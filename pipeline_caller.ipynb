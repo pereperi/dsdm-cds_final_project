{
 "cells": [
  {
   "cell_type": "code",
   "execution_count": 1,
   "metadata": {},
   "outputs": [
    {
     "name": "stdout",
     "output_type": "stream",
     "text": [
      "X_train shape:  (5516, 86)\n",
      "X_train cols.:  Index(['id', 'overall', 'potential', 'value_eur', 'wage_eur', 'height_cm',\n",
      "       'weight_kg', 'league_level', 'club_jersey_number',\n",
      "       'nation_jersey_number', 'preferred_foot', 'weak_foot', 'skill_moves',\n",
      "       'international_reputation', 'body_type', 'release_clause_eur', 'pace',\n",
      "       'shooting', 'passing', 'dribbling', 'defending', 'physic',\n",
      "       'attacking_crossing', 'attacking_finishing',\n",
      "       'attacking_heading_accuracy', 'attacking_short_passing',\n",
      "       'attacking_volleys', 'skill_dribbling', 'skill_curve',\n",
      "       'skill_fk_accuracy', 'skill_long_passing', 'skill_ball_control',\n",
      "       'movement_acceleration', 'movement_sprint_speed', 'movement_agility',\n",
      "       'movement_reactions', 'movement_balance', 'power_shot_power',\n",
      "       'power_jumping', 'power_stamina', 'power_strength', 'power_long_shots',\n",
      "       'mentality_aggression', 'mentality_interceptions',\n",
      "       'mentality_positioning', 'mentality_vision', 'mentality_penalties',\n",
      "       'mentality_composure', 'defending_marking_awareness',\n",
      "       'defending_standing_tackle', 'defending_sliding_tackle',\n",
      "       'goalkeeping_diving', 'goalkeeping_handling', 'goalkeeping_kicking',\n",
      "       'goalkeeping_positioning', 'goalkeeping_reflexes', 'goalkeeping_speed',\n",
      "       'cautious_trait', 'chip_trait', 'crosser_trait', 'dribbler_trait',\n",
      "       'finesse_trait', 'flair_trait', 'free_trait', 'header_trait',\n",
      "       'in_trait', 'injury_trait', 'kick_trait', 'leadership_trait',\n",
      "       'outside_trait', 'player_trait', 'playmaker_trait', 'power_trait',\n",
      "       'shot_trait', 'solid_trait', 'speed_trait', 'tackles_trait',\n",
      "       'taker_trait', 'team_trait', 'technical_trait', 'throw_trait',\n",
      "       'attacking_wr', 'defensive_wr', 'years_until_contract_expires', 'age',\n",
      "       'yearinclub'],\n",
      "      dtype='object')\n",
      "Model used:  RandomForestClassifier()\n",
      "F1 score of the model:  0.3961679513898828\n",
      "Accuracy of the model:  0.4467005076142132\n",
      "ROC AUC of the model:  0.8718500929654992\n"
     ]
    },
    {
     "data": {
      "text/plain": [
       "(0.3961679513898828, 0.4467005076142132, 0.8718500929654992)"
      ]
     },
     "execution_count": 1,
     "metadata": {},
     "output_type": "execute_result"
    }
   ],
   "source": [
    "from mylib.pipeline import run_pipeline\n",
    "\n",
    "# We run the model to train it and evaluate it\n",
    "run_pipeline('data/train.csv')\n"
   ]
  },
  {
   "cell_type": "markdown",
   "metadata": {},
   "source": [
    "### Try the unit tests:"
   ]
  },
  {
   "cell_type": "code",
   "execution_count": 2,
   "metadata": {},
   "outputs": [
    {
     "name": "stdout",
     "output_type": "stream",
     "text": [
      "None\n"
     ]
    }
   ],
   "source": [
    "from tests_methods.test_feature_engineering import *\n",
    "from tests_methods.test_preprocessing import *\n",
    "\n",
    "test_process_work_rate()\n",
    "test_handle_foot()\n",
    "test_calculate_age()\n",
    "test_drop_string_columns()\n",
    "test_column_string_to_num_encoding()\n",
    "test_scaling_normalization()"
   ]
  },
  {
   "cell_type": "code",
   "execution_count": null,
   "metadata": {},
   "outputs": [],
   "source": []
  }
 ],
 "metadata": {
  "kernelspec": {
   "display_name": "bse",
   "language": "python",
   "name": "python3"
  },
  "language_info": {
   "codemirror_mode": {
    "name": "ipython",
    "version": 3
   },
   "file_extension": ".py",
   "mimetype": "text/x-python",
   "name": "python",
   "nbconvert_exporter": "python",
   "pygments_lexer": "ipython3",
   "version": "3.11.4"
  }
 },
 "nbformat": 4,
 "nbformat_minor": 2
}
