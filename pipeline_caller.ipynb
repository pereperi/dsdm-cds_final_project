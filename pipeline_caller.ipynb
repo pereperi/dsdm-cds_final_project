{
 "cells": [
  {
   "cell_type": "code",
   "execution_count": null,
   "metadata": {},
   "outputs": [],
   "source": [
    "from pipeline import run_pipeline\n",
    "\n",
    "# We run the model to train it and evaluate it\n",
    "run_pipeline('/data/train.csv')\n"
   ]
  }
 ],
 "metadata": {
  "language_info": {
   "name": "python"
  }
 },
 "nbformat": 4,
 "nbformat_minor": 2
}
