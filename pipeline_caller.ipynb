{
 "cells": [
  {
   "cell_type": "code",
   "execution_count": 1,
   "metadata": {},
   "outputs": [
    {
     "name": "stderr",
     "output_type": "stream",
     "text": [
      "/Users/guillemmirabentrubinat/Library/CloudStorage/OneDrive-Personal/BSE/CDS Computing for Data Science/Final Project/dsdm-cds_final_project/mylib/features.py:52: UserWarning: Could not infer format, so each element will be parsed individually, falling back to `dateutil`. To ensure parsing is consistent and as-expected, please specify a format.\n",
      "  data['age'] = (reference_date - pd.to_datetime(data['birthday_date'])).dt.days // 365\n",
      "/Users/guillemmirabentrubinat/Library/CloudStorage/OneDrive-Personal/BSE/CDS Computing for Data Science/Final Project/dsdm-cds_final_project/mylib/features.py:61: UserWarning: Could not infer format, so each element will be parsed individually, falling back to `dateutil`. To ensure parsing is consistent and as-expected, please specify a format.\n",
      "  data['yearinclub'] = (reference_date - pd.to_datetime(data['club_joined'])).dt.days // 365\n"
     ]
    },
    {
     "name": "stdout",
     "output_type": "stream",
     "text": [
      "Mean squared error of the model:  31.411626800320505\n"
     ]
    },
    {
     "data": {
      "text/plain": [
       "31.411626800320505"
      ]
     },
     "execution_count": 1,
     "metadata": {},
     "output_type": "execute_result"
    }
   ],
   "source": [
    "from mylib.pipeline import run_pipeline\n",
    "\n",
    "# We run the model to train it and evaluate it\n",
    "run_pipeline('data/train.csv')\n"
   ]
  }
 ],
 "metadata": {
  "kernelspec": {
   "display_name": "bse",
   "language": "python",
   "name": "python3"
  },
  "language_info": {
   "codemirror_mode": {
    "name": "ipython",
    "version": 3
   },
   "file_extension": ".py",
   "mimetype": "text/x-python",
   "name": "python",
   "nbconvert_exporter": "python",
   "pygments_lexer": "ipython3",
   "version": "3.12.0"
  }
 },
 "nbformat": 4,
 "nbformat_minor": 2
}
