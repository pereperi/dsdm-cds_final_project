{
 "cells": [
  {
   "cell_type": "markdown",
   "metadata": {},
   "source": [
    "## `run_pipeline` Method\n",
    "\n",
    "### Description\n",
    "The `run_pipeline` method is designed to streamline the process of building and evaluating machine learning models for a given Fifa dataset. It takes the following parameters:\n",
    "\n",
    "- `file_path` (str): The path to the CSV file containing the dataset.\n",
    "- `list_of_models` (list, default=['logistic']): A list of machine learning models to be trained and evaluated.\n",
    "        - available models ['rf','logistic','svc'] \n",
    "- `use_SMOTE` (bool, optional, default=False): Set to `True` if you want to apply Synthetic Minority Over-sampling Technique (SMOTE) for handling class imbalance.\n",
    "- `use_GridSearch` (bool, optional, default=False): Set to `True` if you want to perform hyperparameter tuning using grid search.\n",
    "- `use_feature_selection` (bool, optional, default=False): Set to `True` if you want to perform feature selection.\n",
    "\n",
    "### Note\n",
    "- The parameters `use_SMOTE`, `use_GridSearch`, and `use_feature_selection` have default values, so you can choose not to specify them unless customization is needed.\n",
    "- Depending on the selected features (SMOTE, grid search, feature selection), the code execution time may vary, especially if grid search is enabled.\n",
    "\n",
    "The method prints the metrics for the selected models.\n",
    "### Example Usage\n",
    "```python\n",
    "run_pipeline(\"file_path/data.csv\", ['rf','logistic'], use_SMOTE=True, use_GridSearch=False, use_feature_selection=False)\n"
   ]
  },
  {
   "cell_type": "markdown",
   "metadata": {},
   "source": [
    "#### Example of Logistic vs Random Forest vs SVC (all parameters False)"
   ]
  },
  {
   "cell_type": "code",
   "execution_count": 1,
   "metadata": {},
   "outputs": [
    {
     "name": "stdout",
     "output_type": "stream",
     "text": [
      "X_train shape:  (5516, 85)\n",
      "Model:  RandomForestClassifier(bootstrap=False, min_samples_split=5)\n",
      "F1 score of the model:  0.40944731186262084\n",
      "Accuracy of the model:  0.45685279187817257\n",
      "Model:  LogisticRegression(max_iter=5000, random_state=42)\n",
      "F1 score of the model:  0.42067337588091924\n",
      "Accuracy of the model:  0.4655547498187092\n",
      "Model:  SVC()\n",
      "F1 score of the model:  0.3899513298751545\n",
      "Accuracy of the model:  0.45540246555474984\n",
      "Total time: 18.60209012031555 seconds\n"
     ]
    }
   ],
   "source": [
    "from mylib.position_prediction.pipeline import Position_Pipeline as Pipline\n",
    "import time\n",
    "\n",
    "start_time = time.time()\n",
    "position_pipeline = Pipline()\n",
    "position_pipeline.run_pipeline('data/train.csv',models=['rf','logistic','svc'])\n",
    "print(\"Total time: %s seconds\" % (time.time() - start_time))\n"
   ]
  },
  {
   "cell_type": "markdown",
   "metadata": {},
   "source": [
    "#### Example of LogisticRegressor (SMOTE=True,Feature_selection=True)"
   ]
  },
  {
   "cell_type": "code",
   "execution_count": 4,
   "metadata": {},
   "outputs": [
    {
     "name": "stdout",
     "output_type": "stream",
     "text": [
      "SMOTE\n",
      "X_train shape:  (12456, 85)\n",
      "Feature selection using RFECV:  LogisticRegression\n",
      "Model:  LogisticRegression(max_iter=5000, random_state=42)\n",
      "F1 score of the model:  0.40430805045148727\n",
      "Accuracy of the model:  0.38796229151559103\n",
      "Total time: 238.21640586853027 seconds\n"
     ]
    }
   ],
   "source": [
    "from mylib.position_prediction.pipeline import Position_Pipeline as Pipline\n",
    "import time\n",
    "\n",
    "start_time = time.time()\n",
    "position_pipeline = Pipline()\n",
    "position_pipeline.run_pipeline('data/train.csv',models=['logistic'], use_SMOTE=True,use_feature_selection=True)\n",
    "print(\"Total time: %s seconds\" % (time.time() - start_time))"
   ]
  },
  {
   "cell_type": "markdown",
   "metadata": {},
   "source": [
    "#### Example of SVC (Hyper_parameter=True)"
   ]
  },
  {
   "cell_type": "code",
   "execution_count": 5,
   "metadata": {},
   "outputs": [
    {
     "name": "stdout",
     "output_type": "stream",
     "text": [
      "X_train shape:  (5516, 85)\n",
      "Fitting 5 folds for each of 8 candidates, totalling 40 fits\n",
      "Hyperparameter tuning using Grid Search:  SVC\n",
      "Best Hyperparameters: {'C': 1, 'degree': 1, 'gamma': 'scale', 'kernel': 'linear'}\n",
      "Model:  SVC(C=1, degree=1, kernel='linear')\n",
      "F1 score of the model:  0.4160147418966265\n",
      "Accuracy of the model:  0.4684554024655547\n",
      "Total time: 24.881593704223633 seconds\n"
     ]
    }
   ],
   "source": [
    "from mylib.position_prediction.pipeline import Position_Pipeline as Pipline\n",
    "import time\n",
    "\n",
    "start_time = time.time()\n",
    "position_pipeline = Pipline()\n",
    "position_pipeline.run_pipeline('data/train.csv',models=['svc'], use_grid_search=True)\n",
    "print(\"Total time: %s seconds\" % (time.time() - start_time))"
   ]
  },
  {
   "cell_type": "markdown",
   "metadata": {},
   "source": [
    "### Try the unit tests:"
   ]
  },
  {
   "cell_type": "markdown",
   "metadata": {},
   "source": [
    "If the cell runs without error, the tests are passed"
   ]
  },
  {
   "cell_type": "code",
   "execution_count": null,
   "metadata": {},
   "outputs": [],
   "source": [
    "from tests_methods.test_feature_engineering import *\n",
    "from tests_methods.test_preprocessing import *\n",
    "\n",
    "test_process_work_rate()\n",
    "test_handle_foot()\n",
    "test_calculate_age()\n",
    "test_drop_string_columns()\n",
    "test_column_string_to_num_encoding()\n",
    "test_scaling_normalization()"
   ]
  },
  {
   "cell_type": "code",
   "execution_count": null,
   "metadata": {},
   "outputs": [],
   "source": []
  }
 ],
 "metadata": {
  "kernelspec": {
   "display_name": "bse",
   "language": "python",
   "name": "python3"
  },
  "language_info": {
   "codemirror_mode": {
    "name": "ipython",
    "version": 3
   },
   "file_extension": ".py",
   "mimetype": "text/x-python",
   "name": "python",
   "nbconvert_exporter": "python",
   "pygments_lexer": "ipython3",
   "version": "3.11.4"
  }
 },
 "nbformat": 4,
 "nbformat_minor": 2
}
