{
 "cells": [
  {
   "cell_type": "code",
   "execution_count": 1,
   "metadata": {},
   "outputs": [
    {
     "name": "stdout",
     "output_type": "stream",
     "text": [
      "SMOTE\n",
      "X_train shape:  (12456, 86)\n",
      "Model:  RandomForestClassifier(bootstrap=False, min_samples_split=5)\n",
      "F1 score of the model:  0.4127600369539293\n",
      "Accuracy of the model:  0.43872371283538797\n",
      "Model:  LogisticRegression(C=1, max_iter=200, penalty='l1', solver='liblinear')\n",
      "F1 score of the model:  0.395735950963206\n",
      "Accuracy of the model:  0.38143582306018853\n",
      "Model:  SVC()\n",
      "F1 score of the model:  0.00737212461090338\n",
      "Accuracy of the model:  0.01595358955765047\n"
     ]
    }
   ],
   "source": [
    "from mylib.pipeline import run_pipeline\n",
    "\n",
    "# We run the model to train it and evaluate it\n",
    "run_pipeline('data/train.csv')\n"
   ]
  },
  {
   "cell_type": "markdown",
   "metadata": {},
   "source": [
    "### Try the unit tests:"
   ]
  },
  {
   "cell_type": "code",
   "execution_count": null,
   "metadata": {},
   "outputs": [
    {
     "name": "stdout",
     "output_type": "stream",
     "text": [
      "None\n"
     ]
    }
   ],
   "source": [
    "# If the cell runs without error, the tests are passed\n",
    "from tests_methods.test_feature_engineering import *\n",
    "from tests_methods.test_preprocessing import *\n",
    "\n",
    "test_process_work_rate()\n",
    "test_handle_foot()\n",
    "test_calculate_age()\n",
    "test_drop_string_columns()\n",
    "test_column_string_to_num_encoding()\n",
    "test_scaling_normalization()"
   ]
  },
  {
   "cell_type": "code",
   "execution_count": null,
   "metadata": {},
   "outputs": [],
   "source": []
  }
 ],
 "metadata": {
  "kernelspec": {
   "display_name": "bse",
   "language": "python",
   "name": "python3"
  },
  "language_info": {
   "codemirror_mode": {
    "name": "ipython",
    "version": 3
   },
   "file_extension": ".py",
   "mimetype": "text/x-python",
   "name": "python",
   "nbconvert_exporter": "python",
   "pygments_lexer": "ipython3",
   "version": "3.11.4"
  }
 },
 "nbformat": 4,
 "nbformat_minor": 2
}
